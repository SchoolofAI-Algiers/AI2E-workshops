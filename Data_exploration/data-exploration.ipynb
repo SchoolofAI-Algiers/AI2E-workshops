{
 "cells": [
  {
   "cell_type": "markdown",
   "metadata": {},
   "source": [
    "<img src=\"../assets/images/Cover.png\" alt=\"Cover\" title=\"AI2E Cover\" />"
   ]
  },
  {
   "cell_type": "markdown",
   "metadata": {},
   "source": [
    "## AI2E - [Workshop 2] - [Data exploration] \n",
    "\n",
    "We will go through the essential steps to explore and get the most benefit from our data. \n",
    "\n",
    "### Content \n",
    "1. Get started with data\n",
    "2. Feature selection\n",
    "3. Feature engineering\n",
    "4. Trait missing values\n",
    "5. Data visualisation\n",
    "6. Handle outliers\n",
    "7. Encode data\n",
    "8. Scaling\n",
    "9. Conclusion"
   ]
  },
  {
   "cell_type": "markdown",
   "metadata": {},
   "source": [
    "### 1. Get started with data:\n",
    "The dataset provided by an algerian company includes variables about adress of depart, adress of arrival, distance, ... \n",
    "    The training dataset provided here is a subset of over 60,000 samples.\n",
    "\n",
    "#### variables description\n",
    "<img src=\"../assets/images/w2_Vdesc.png\" title=\"variables description\" />\n"
   ]
  },
  {
   "cell_type": "code",
   "execution_count": 1,
   "metadata": {},
   "outputs": [],
   "source": [
    "# imports\n",
    "import pandas as pd\n",
    "from datetime import date\n",
    "from matplotlib import pyplot as plt"
   ]
  },
  {
   "cell_type": "code",
   "execution_count": 36,
   "metadata": {
    "scrolled": false
   },
   "outputs": [
    {
     "data": {
      "text/html": [
       "<div>\n",
       "<style scoped>\n",
       "    .dataframe tbody tr th:only-of-type {\n",
       "        vertical-align: middle;\n",
       "    }\n",
       "\n",
       "    .dataframe tbody tr th {\n",
       "        vertical-align: top;\n",
       "    }\n",
       "\n",
       "    .dataframe thead th {\n",
       "        text-align: right;\n",
       "    }\n",
       "</style>\n",
       "<table border=\"1\" class=\"dataframe\">\n",
       "  <thead>\n",
       "    <tr style=\"text-align: right;\">\n",
       "      <th></th>\n",
       "      <th>travel_id</th>\n",
       "      <th>travel_type</th>\n",
       "      <th>car_type</th>\n",
       "      <th>driver_id</th>\n",
       "      <th>address_of_departure</th>\n",
       "      <th>arrival_address</th>\n",
       "      <th>lat_and_long_of_arrival_address</th>\n",
       "      <th>date_of_travel</th>\n",
       "      <th>time_of_travel</th>\n",
       "      <th>estimated_time</th>\n",
       "      <th>distance</th>\n",
       "      <th>options</th>\n",
       "      <th>state</th>\n",
       "      <th>price</th>\n",
       "    </tr>\n",
       "  </thead>\n",
       "  <tbody>\n",
       "    <tr>\n",
       "      <td>0</td>\n",
       "      <td>27550488</td>\n",
       "      <td>advance</td>\n",
       "      <td>Mini Citadine</td>\n",
       "      <td>NaN</td>\n",
       "      <td>AXA Assurances Algérie, Boulevard du 11 Decemb...</td>\n",
       "      <td>Clinique Krim Belkacem, Boulevard Colonel Krim...</td>\n",
       "      <td>36.770681600000003,3.0510609999999998</td>\n",
       "      <td>2019-09-29 23:55:00</td>\n",
       "      <td>23:55:00</td>\n",
       "      <td>13.0</td>\n",
       "      <td>6053.0</td>\n",
       "      <td>NaN</td>\n",
       "      <td>cancelled</td>\n",
       "      <td>0.0</td>\n",
       "    </tr>\n",
       "    <tr>\n",
       "      <td>1</td>\n",
       "      <td>28026204</td>\n",
       "      <td>live</td>\n",
       "      <td>Mini Citadine</td>\n",
       "      <td>43166.0</td>\n",
       "      <td>Unnamed Road Dar El Beïda</td>\n",
       "      <td>136 logements, bloc D، Route de Ouled Fayet Ch...</td>\n",
       "      <td>36.745614799999998,2.9428641</td>\n",
       "      <td>2019-09-29 23:54:36</td>\n",
       "      <td>23:54:00</td>\n",
       "      <td>33.0</td>\n",
       "      <td>31895.0</td>\n",
       "      <td>NaN</td>\n",
       "      <td>finished</td>\n",
       "      <td>133300.0</td>\n",
       "    </tr>\n",
       "    <tr>\n",
       "      <td>2</td>\n",
       "      <td>28026119</td>\n",
       "      <td>live</td>\n",
       "      <td>Mini Citadine</td>\n",
       "      <td>30759.0</td>\n",
       "      <td>Office Riadh El Feth ,bois des arcades ,El Mad...</td>\n",
       "      <td>79 Rue Fabri MARCELLO, Bir Mourad Raïs, 阿尔及利亚</td>\n",
       "      <td>36.736257999999999,3.0616660000000002</td>\n",
       "      <td>2019-09-29 23:54:27</td>\n",
       "      <td>23:54:00</td>\n",
       "      <td>7.0</td>\n",
       "      <td>3056.0</td>\n",
       "      <td>NaN</td>\n",
       "      <td>finished</td>\n",
       "      <td>32600.0</td>\n",
       "    </tr>\n",
       "    <tr>\n",
       "      <td>3</td>\n",
       "      <td>28025871</td>\n",
       "      <td>live</td>\n",
       "      <td>Mini Citadine</td>\n",
       "      <td>32536.0</td>\n",
       "      <td>N24 Bordj El Kiffan</td>\n",
       "      <td>Dar El Beïda, Algeria</td>\n",
       "      <td>36.727856899999999,3.2181302000000001</td>\n",
       "      <td>2019-09-29 23:47:25</td>\n",
       "      <td>23:47:00</td>\n",
       "      <td>7.0</td>\n",
       "      <td>6092.0</td>\n",
       "      <td>NaN</td>\n",
       "      <td>finished</td>\n",
       "      <td>38300.0</td>\n",
       "    </tr>\n",
       "    <tr>\n",
       "      <td>4</td>\n",
       "      <td>28026102</td>\n",
       "      <td>live</td>\n",
       "      <td>Mini Citadine</td>\n",
       "      <td>40592.0</td>\n",
       "      <td>Lily Rose, Hydra, Algeria</td>\n",
       "      <td>214 résidence، Bois des Cars 2, Deli Ibrahim, ...</td>\n",
       "      <td>36.753667999999998,2.9762750000000002</td>\n",
       "      <td>2019-09-29 23:46:35</td>\n",
       "      <td>23:46:00</td>\n",
       "      <td>11.0</td>\n",
       "      <td>6928.0</td>\n",
       "      <td>NaN</td>\n",
       "      <td>finished</td>\n",
       "      <td>47800.0</td>\n",
       "    </tr>\n",
       "  </tbody>\n",
       "</table>\n",
       "</div>"
      ],
      "text/plain": [
       "   travel_id travel_type       car_type  driver_id  \\\n",
       "0   27550488     advance  Mini Citadine        NaN   \n",
       "1   28026204        live  Mini Citadine    43166.0   \n",
       "2   28026119        live  Mini Citadine    30759.0   \n",
       "3   28025871        live  Mini Citadine    32536.0   \n",
       "4   28026102        live  Mini Citadine    40592.0   \n",
       "\n",
       "                                address_of_departure  \\\n",
       "0  AXA Assurances Algérie, Boulevard du 11 Decemb...   \n",
       "1                          Unnamed Road Dar El Beïda   \n",
       "2  Office Riadh El Feth ,bois des arcades ,El Mad...   \n",
       "3                                N24 Bordj El Kiffan   \n",
       "4                          Lily Rose, Hydra, Algeria   \n",
       "\n",
       "                                     arrival_address  \\\n",
       "0  Clinique Krim Belkacem, Boulevard Colonel Krim...   \n",
       "1  136 logements, bloc D، Route de Ouled Fayet Ch...   \n",
       "2      79 Rue Fabri MARCELLO, Bir Mourad Raïs, 阿尔及利亚   \n",
       "3                              Dar El Beïda, Algeria   \n",
       "4  214 résidence، Bois des Cars 2, Deli Ibrahim, ...   \n",
       "\n",
       "         lat_and_long_of_arrival_address       date_of_travel time_of_travel  \\\n",
       "0  36.770681600000003,3.0510609999999998  2019-09-29 23:55:00       23:55:00   \n",
       "1           36.745614799999998,2.9428641  2019-09-29 23:54:36       23:54:00   \n",
       "2  36.736257999999999,3.0616660000000002  2019-09-29 23:54:27       23:54:00   \n",
       "3  36.727856899999999,3.2181302000000001  2019-09-29 23:47:25       23:47:00   \n",
       "4  36.753667999999998,2.9762750000000002  2019-09-29 23:46:35       23:46:00   \n",
       "\n",
       "   estimated_time  distance options      state     price  \n",
       "0            13.0    6053.0     NaN  cancelled       0.0  \n",
       "1            33.0   31895.0     NaN   finished  133300.0  \n",
       "2             7.0    3056.0     NaN   finished   32600.0  \n",
       "3             7.0    6092.0     NaN   finished   38300.0  \n",
       "4            11.0    6928.0     NaN   finished   47800.0  "
      ]
     },
     "execution_count": 36,
     "metadata": {},
     "output_type": "execute_result"
    }
   ],
   "source": [
    "# read the data\n",
    "df = pd.read_csv('data/vtc_data.csv')\n",
    "df.head()"
   ]
  },
  {
   "cell_type": "code",
   "execution_count": 37,
   "metadata": {},
   "outputs": [
    {
     "data": {
      "text/html": [
       "<div>\n",
       "<style scoped>\n",
       "    .dataframe tbody tr th:only-of-type {\n",
       "        vertical-align: middle;\n",
       "    }\n",
       "\n",
       "    .dataframe tbody tr th {\n",
       "        vertical-align: top;\n",
       "    }\n",
       "\n",
       "    .dataframe thead th {\n",
       "        text-align: right;\n",
       "    }\n",
       "</style>\n",
       "<table border=\"1\" class=\"dataframe\">\n",
       "  <thead>\n",
       "    <tr style=\"text-align: right;\">\n",
       "      <th></th>\n",
       "      <th>travel_id</th>\n",
       "      <th>driver_id</th>\n",
       "      <th>estimated_time</th>\n",
       "      <th>distance</th>\n",
       "      <th>price</th>\n",
       "    </tr>\n",
       "  </thead>\n",
       "  <tbody>\n",
       "    <tr>\n",
       "      <td>count</td>\n",
       "      <td>6.533500e+04</td>\n",
       "      <td>60229.000000</td>\n",
       "      <td>65335.000000</td>\n",
       "      <td>65078.000000</td>\n",
       "      <td>6.512100e+04</td>\n",
       "    </tr>\n",
       "    <tr>\n",
       "      <td>mean</td>\n",
       "      <td>2.698962e+07</td>\n",
       "      <td>36458.806904</td>\n",
       "      <td>20.731981</td>\n",
       "      <td>12456.091091</td>\n",
       "      <td>4.291896e+04</td>\n",
       "    </tr>\n",
       "    <tr>\n",
       "      <td>std</td>\n",
       "      <td>5.911326e+05</td>\n",
       "      <td>5170.877670</td>\n",
       "      <td>21.092258</td>\n",
       "      <td>16331.355123</td>\n",
       "      <td>4.961151e+04</td>\n",
       "    </tr>\n",
       "    <tr>\n",
       "      <td>min</td>\n",
       "      <td>1.147333e+07</td>\n",
       "      <td>14770.000000</td>\n",
       "      <td>0.000000</td>\n",
       "      <td>0.000000</td>\n",
       "      <td>-6.800000e+04</td>\n",
       "    </tr>\n",
       "    <tr>\n",
       "      <td>25%</td>\n",
       "      <td>2.646277e+07</td>\n",
       "      <td>32376.000000</td>\n",
       "      <td>11.000000</td>\n",
       "      <td>4851.000000</td>\n",
       "      <td>0.000000e+00</td>\n",
       "    </tr>\n",
       "    <tr>\n",
       "      <td>50%</td>\n",
       "      <td>2.691974e+07</td>\n",
       "      <td>36638.000000</td>\n",
       "      <td>17.000000</td>\n",
       "      <td>8960.500000</td>\n",
       "      <td>3.820000e+04</td>\n",
       "    </tr>\n",
       "    <tr>\n",
       "      <td>75%</td>\n",
       "      <td>2.751333e+07</td>\n",
       "      <td>41457.000000</td>\n",
       "      <td>26.000000</td>\n",
       "      <td>16490.750000</td>\n",
       "      <td>6.080000e+04</td>\n",
       "    </tr>\n",
       "    <tr>\n",
       "      <td>max</td>\n",
       "      <td>2.805757e+07</td>\n",
       "      <td>44197.000000</td>\n",
       "      <td>618.000000</td>\n",
       "      <td>575798.000000</td>\n",
       "      <td>2.250000e+06</td>\n",
       "    </tr>\n",
       "  </tbody>\n",
       "</table>\n",
       "</div>"
      ],
      "text/plain": [
       "          travel_id     driver_id  estimated_time       distance         price\n",
       "count  6.533500e+04  60229.000000    65335.000000   65078.000000  6.512100e+04\n",
       "mean   2.698962e+07  36458.806904       20.731981   12456.091091  4.291896e+04\n",
       "std    5.911326e+05   5170.877670       21.092258   16331.355123  4.961151e+04\n",
       "min    1.147333e+07  14770.000000        0.000000       0.000000 -6.800000e+04\n",
       "25%    2.646277e+07  32376.000000       11.000000    4851.000000  0.000000e+00\n",
       "50%    2.691974e+07  36638.000000       17.000000    8960.500000  3.820000e+04\n",
       "75%    2.751333e+07  41457.000000       26.000000   16490.750000  6.080000e+04\n",
       "max    2.805757e+07  44197.000000      618.000000  575798.000000  2.250000e+06"
      ]
     },
     "execution_count": 37,
     "metadata": {},
     "output_type": "execute_result"
    }
   ],
   "source": [
    "#get information about integer values\n",
    "df.describe()"
   ]
  },
  {
   "cell_type": "code",
   "execution_count": 38,
   "metadata": {},
   "outputs": [
    {
     "name": "stdout",
     "output_type": "stream",
     "text": [
      "<class 'pandas.core.frame.DataFrame'>\n",
      "RangeIndex: 65335 entries, 0 to 65334\n",
      "Data columns (total 14 columns):\n",
      "travel_id                          65335 non-null int64\n",
      "travel_type                        65335 non-null object\n",
      "car_type                           65335 non-null object\n",
      "driver_id                          60229 non-null float64\n",
      "address_of_departure               65335 non-null object\n",
      "arrival_address                    65292 non-null object\n",
      "lat_and_long_of_arrival_address    65292 non-null object\n",
      "date_of_travel                     65335 non-null object\n",
      "time_of_travel                     65121 non-null object\n",
      "estimated_time                     65335 non-null float64\n",
      "distance                           65078 non-null float64\n",
      "options                            1152 non-null object\n",
      "state                              65335 non-null object\n",
      "price                              65121 non-null float64\n",
      "dtypes: float64(4), int64(1), object(9)\n",
      "memory usage: 7.0+ MB\n"
     ]
    }
   ],
   "source": [
    "#get an overall look about the data\n",
    "df.info()"
   ]
  },
  {
   "cell_type": "code",
   "execution_count": 39,
   "metadata": {},
   "outputs": [
    {
     "name": "stdout",
     "output_type": "stream",
     "text": [
      "First date :  2019-08-26 18:35:57\n",
      "Last date :  2019-09-29 23:55:00\n"
     ]
    }
   ],
   "source": [
    "#check the duration of the whole data\n",
    "print(\"First date : \", df[\"date_of_travel\"].min())\n",
    "print(\"Last date : \", df[\"date_of_travel\"].max())"
   ]
  },
  {
   "cell_type": "markdown",
   "metadata": {},
   "source": [
    "### 2. Feature selection\n",
    "Feature Selection is one of the core concepts in machine learning which hugely impacts the performance of your model. The data features that you use to train your machine learning models have a huge influence on the performance you can achieve.  \n",
    "<b> Irrelevant or partially relevant features can negatively impact model performance. </b>"
   ]
  },
  {
   "cell_type": "code",
   "execution_count": 40,
   "metadata": {},
   "outputs": [],
   "source": [
    "#exo: Define our features and target"
   ]
  },
  {
   "cell_type": "code",
   "execution_count": null,
   "metadata": {},
   "outputs": [],
   "source": [
    "#solution:\n",
    "chosen_features = [\"travel_type\", \"car_type\", \"date_of_travel\", \"distance\", \"lat_and_long_of_arrival_address\"]\n",
    "target_name = \"estimated_time\""
   ]
  },
  {
   "cell_type": "code",
   "execution_count": 68,
   "metadata": {},
   "outputs": [],
   "source": [
    "features = df[chosen_features]\n",
    "labels = df[target_name]"
   ]
  },
  {
   "cell_type": "markdown",
   "metadata": {},
   "source": [
    "### 3. Feature engineering\n",
    "Feature engineering is the process of using domain knowledge of the data to create features that make machine learning algorithms work."
   ]
  },
  {
   "cell_type": "code",
   "execution_count": 69,
   "metadata": {},
   "outputs": [
    {
     "name": "stderr",
     "output_type": "stream",
     "text": [
      "C:\\Users\\Younes38\\Anaconda3\\lib\\site-packages\\ipykernel_launcher.py:3: SettingWithCopyWarning: \n",
      "A value is trying to be set on a copy of a slice from a DataFrame.\n",
      "Try using .loc[row_indexer,col_indexer] = value instead\n",
      "\n",
      "See the caveats in the documentation: http://pandas.pydata.org/pandas-docs/stable/user_guide/indexing.html#returning-a-view-versus-a-copy\n",
      "  This is separate from the ipykernel package so we can avoid doing imports until\n",
      "C:\\Users\\Younes38\\Anaconda3\\lib\\site-packages\\ipykernel_launcher.py:6: SettingWithCopyWarning: \n",
      "A value is trying to be set on a copy of a slice from a DataFrame.\n",
      "Try using .loc[row_indexer,col_indexer] = value instead\n",
      "\n",
      "See the caveats in the documentation: http://pandas.pydata.org/pandas-docs/stable/user_guide/indexing.html#returning-a-view-versus-a-copy\n",
      "  \n",
      "C:\\Users\\Younes38\\Anaconda3\\lib\\site-packages\\ipykernel_launcher.py:7: SettingWithCopyWarning: \n",
      "A value is trying to be set on a copy of a slice from a DataFrame.\n",
      "Try using .loc[row_indexer,col_indexer] = value instead\n",
      "\n",
      "See the caveats in the documentation: http://pandas.pydata.org/pandas-docs/stable/user_guide/indexing.html#returning-a-view-versus-a-copy\n",
      "  import sys\n"
     ]
    },
    {
     "data": {
      "text/html": [
       "<div>\n",
       "<style scoped>\n",
       "    .dataframe tbody tr th:only-of-type {\n",
       "        vertical-align: middle;\n",
       "    }\n",
       "\n",
       "    .dataframe tbody tr th {\n",
       "        vertical-align: top;\n",
       "    }\n",
       "\n",
       "    .dataframe thead th {\n",
       "        text-align: right;\n",
       "    }\n",
       "</style>\n",
       "<table border=\"1\" class=\"dataframe\">\n",
       "  <thead>\n",
       "    <tr style=\"text-align: right;\">\n",
       "      <th></th>\n",
       "      <th>travel_type</th>\n",
       "      <th>car_type</th>\n",
       "      <th>distance</th>\n",
       "      <th>lat_and_long_of_arrival_address</th>\n",
       "      <th>hour</th>\n",
       "      <th>day_name</th>\n",
       "    </tr>\n",
       "  </thead>\n",
       "  <tbody>\n",
       "    <tr>\n",
       "      <td>0</td>\n",
       "      <td>advance</td>\n",
       "      <td>Mini Citadine</td>\n",
       "      <td>6053.0</td>\n",
       "      <td>36.770681600000003,3.0510609999999998</td>\n",
       "      <td>23</td>\n",
       "      <td>Sunday</td>\n",
       "    </tr>\n",
       "    <tr>\n",
       "      <td>1</td>\n",
       "      <td>live</td>\n",
       "      <td>Mini Citadine</td>\n",
       "      <td>31895.0</td>\n",
       "      <td>36.745614799999998,2.9428641</td>\n",
       "      <td>23</td>\n",
       "      <td>Sunday</td>\n",
       "    </tr>\n",
       "    <tr>\n",
       "      <td>2</td>\n",
       "      <td>live</td>\n",
       "      <td>Mini Citadine</td>\n",
       "      <td>3056.0</td>\n",
       "      <td>36.736257999999999,3.0616660000000002</td>\n",
       "      <td>23</td>\n",
       "      <td>Sunday</td>\n",
       "    </tr>\n",
       "    <tr>\n",
       "      <td>3</td>\n",
       "      <td>live</td>\n",
       "      <td>Mini Citadine</td>\n",
       "      <td>6092.0</td>\n",
       "      <td>36.727856899999999,3.2181302000000001</td>\n",
       "      <td>23</td>\n",
       "      <td>Sunday</td>\n",
       "    </tr>\n",
       "    <tr>\n",
       "      <td>4</td>\n",
       "      <td>live</td>\n",
       "      <td>Mini Citadine</td>\n",
       "      <td>6928.0</td>\n",
       "      <td>36.753667999999998,2.9762750000000002</td>\n",
       "      <td>23</td>\n",
       "      <td>Sunday</td>\n",
       "    </tr>\n",
       "  </tbody>\n",
       "</table>\n",
       "</div>"
      ],
      "text/plain": [
       "  travel_type       car_type  distance        lat_and_long_of_arrival_address  \\\n",
       "0     advance  Mini Citadine    6053.0  36.770681600000003,3.0510609999999998   \n",
       "1        live  Mini Citadine   31895.0           36.745614799999998,2.9428641   \n",
       "2        live  Mini Citadine    3056.0  36.736257999999999,3.0616660000000002   \n",
       "3        live  Mini Citadine    6092.0  36.727856899999999,3.2181302000000001   \n",
       "4        live  Mini Citadine    6928.0  36.753667999999998,2.9762750000000002   \n",
       "\n",
       "   hour day_name  \n",
       "0    23   Sunday  \n",
       "1    23   Sunday  \n",
       "2    23   Sunday  \n",
       "3    23   Sunday  \n",
       "4    23   Sunday  "
      ]
     },
     "execution_count": 69,
     "metadata": {},
     "output_type": "execute_result"
    }
   ],
   "source": [
    "# add hour and day columns\n",
    "\n",
    "features['date_of_travel'] = pd.DataFrame(pd.to_datetime(features.date_of_travel, format=\"%Y-%m-%d %H:%M:%S\"))\n",
    "\n",
    "# create a new column\n",
    "features[\"hour\"] = features[\"date_of_travel\"].dt.hour\n",
    "features[\"day_name\"] = features[\"date_of_travel\"].dt.day_name()\n",
    "# drop the \"date of travel\" column\n",
    "features.drop([\"date_of_travel\"], axis = 1, inplace = True)\n",
    "features.head()"
   ]
  },
  {
   "cell_type": "code",
   "execution_count": 70,
   "metadata": {},
   "outputs": [
    {
     "name": "stderr",
     "output_type": "stream",
     "text": [
      "C:\\Users\\Younes38\\Anaconda3\\lib\\site-packages\\ipykernel_launcher.py:3: SettingWithCopyWarning: \n",
      "A value is trying to be set on a copy of a slice from a DataFrame.\n",
      "Try using .loc[row_indexer,col_indexer] = value instead\n",
      "\n",
      "See the caveats in the documentation: http://pandas.pydata.org/pandas-docs/stable/user_guide/indexing.html#returning-a-view-versus-a-copy\n",
      "  This is separate from the ipykernel package so we can avoid doing imports until\n",
      "C:\\Users\\Younes38\\Anaconda3\\lib\\site-packages\\ipykernel_launcher.py:4: SettingWithCopyWarning: \n",
      "A value is trying to be set on a copy of a slice from a DataFrame.\n",
      "Try using .loc[row_indexer,col_indexer] = value instead\n",
      "\n",
      "See the caveats in the documentation: http://pandas.pydata.org/pandas-docs/stable/user_guide/indexing.html#returning-a-view-versus-a-copy\n",
      "  after removing the cwd from sys.path.\n"
     ]
    },
    {
     "data": {
      "text/html": [
       "<div>\n",
       "<style scoped>\n",
       "    .dataframe tbody tr th:only-of-type {\n",
       "        vertical-align: middle;\n",
       "    }\n",
       "\n",
       "    .dataframe tbody tr th {\n",
       "        vertical-align: top;\n",
       "    }\n",
       "\n",
       "    .dataframe thead th {\n",
       "        text-align: right;\n",
       "    }\n",
       "</style>\n",
       "<table border=\"1\" class=\"dataframe\">\n",
       "  <thead>\n",
       "    <tr style=\"text-align: right;\">\n",
       "      <th></th>\n",
       "      <th>travel_type</th>\n",
       "      <th>car_type</th>\n",
       "      <th>distance</th>\n",
       "      <th>hour</th>\n",
       "      <th>day_name</th>\n",
       "      <th>lat</th>\n",
       "      <th>lon</th>\n",
       "    </tr>\n",
       "  </thead>\n",
       "  <tbody>\n",
       "    <tr>\n",
       "      <td>0</td>\n",
       "      <td>advance</td>\n",
       "      <td>Mini Citadine</td>\n",
       "      <td>6053.0</td>\n",
       "      <td>23</td>\n",
       "      <td>Sunday</td>\n",
       "      <td>36.770683</td>\n",
       "      <td>3.051061</td>\n",
       "    </tr>\n",
       "    <tr>\n",
       "      <td>1</td>\n",
       "      <td>live</td>\n",
       "      <td>Mini Citadine</td>\n",
       "      <td>31895.0</td>\n",
       "      <td>23</td>\n",
       "      <td>Sunday</td>\n",
       "      <td>36.745613</td>\n",
       "      <td>2.942864</td>\n",
       "    </tr>\n",
       "    <tr>\n",
       "      <td>2</td>\n",
       "      <td>live</td>\n",
       "      <td>Mini Citadine</td>\n",
       "      <td>3056.0</td>\n",
       "      <td>23</td>\n",
       "      <td>Sunday</td>\n",
       "      <td>36.736259</td>\n",
       "      <td>3.061666</td>\n",
       "    </tr>\n",
       "    <tr>\n",
       "      <td>3</td>\n",
       "      <td>live</td>\n",
       "      <td>Mini Citadine</td>\n",
       "      <td>6092.0</td>\n",
       "      <td>23</td>\n",
       "      <td>Sunday</td>\n",
       "      <td>36.727856</td>\n",
       "      <td>3.218130</td>\n",
       "    </tr>\n",
       "    <tr>\n",
       "      <td>4</td>\n",
       "      <td>live</td>\n",
       "      <td>Mini Citadine</td>\n",
       "      <td>6928.0</td>\n",
       "      <td>23</td>\n",
       "      <td>Sunday</td>\n",
       "      <td>36.753670</td>\n",
       "      <td>2.976275</td>\n",
       "    </tr>\n",
       "  </tbody>\n",
       "</table>\n",
       "</div>"
      ],
      "text/plain": [
       "  travel_type       car_type  distance  hour day_name        lat       lon\n",
       "0     advance  Mini Citadine    6053.0    23   Sunday  36.770683  3.051061\n",
       "1        live  Mini Citadine   31895.0    23   Sunday  36.745613  2.942864\n",
       "2        live  Mini Citadine    3056.0    23   Sunday  36.736259  3.061666\n",
       "3        live  Mini Citadine    6092.0    23   Sunday  36.727856  3.218130\n",
       "4        live  Mini Citadine    6928.0    23   Sunday  36.753670  2.976275"
      ]
     },
     "execution_count": 70,
     "metadata": {},
     "output_type": "execute_result"
    }
   ],
   "source": [
    "# separate the lat and lon columns\n",
    "features[['lat','lon']] = features.lat_and_long_of_arrival_address.str.split(\",\", expand=True)\n",
    "features[\"lat\"] = pd.to_numeric(features[\"lat\"], downcast=\"float\")\n",
    "features[\"lon\"] = pd.to_numeric(features[\"lon\"], downcast=\"float\")\n",
    "features.drop([\"lat_and_long_of_arrival_address\"], axis = 1, inplace = True)\n",
    "features.head()"
   ]
  },
  {
   "cell_type": "markdown",
   "metadata": {},
   "source": [
    "### 4. Trait missing values\n",
    "Missing values are one of the most common problems you can encounter when you try to prepare your data for machine learning. The reason for the missing values might be human errors, interruptions in the data flow, privacy concerns, and so on. Whatever is the reason, missing values affect the performance of the machine learning models."
   ]
  },
  {
   "cell_type": "code",
   "execution_count": 71,
   "metadata": {},
   "outputs": [
    {
     "name": "stdout",
     "output_type": "stream",
     "text": [
      "travel_type : 0\n",
      "car_type : 0\n",
      "distance : 257\n",
      "hour : 0\n",
      "day_name : 0\n",
      "lat : 43\n",
      "lon : 43\n"
     ]
    }
   ],
   "source": [
    "# check if there are null values in each column\n",
    "for col in features.columns :\n",
    "    print(col,':' ,features[col].isnull().sum())"
   ]
  },
  {
   "cell_type": "code",
   "execution_count": 72,
   "metadata": {},
   "outputs": [],
   "source": [
    "#trait null values\n",
    "features[\"distance\"].fillna(features[\"distance\"].mean(), inplace = True)\n",
    "features[\"lat\"].fillna(features[\"lat\"].mean(), inplace = True)\n",
    "features[\"lon\"].fillna(features[\"lon\"].mean(), inplace = True)"
   ]
  },
  {
   "cell_type": "code",
   "execution_count": 73,
   "metadata": {},
   "outputs": [],
   "source": [
    "# exo: confirm that we don't have null values"
   ]
  },
  {
   "cell_type": "code",
   "execution_count": 74,
   "metadata": {},
   "outputs": [
    {
     "name": "stdout",
     "output_type": "stream",
     "text": [
      "travel_type : 0\n",
      "car_type : 0\n",
      "distance : 0\n",
      "hour : 0\n",
      "day_name : 0\n",
      "lat : 0\n",
      "lon : 0\n"
     ]
    }
   ],
   "source": [
    "# solution\n",
    "for col in features.columns :\n",
    "    print(col,':' ,features[col].isnull().sum())"
   ]
  },
  {
   "cell_type": "markdown",
   "metadata": {},
   "source": [
    "### 5. Data visualisation\n",
    "Data visualization is the graphic representation of data. It involves producing images that communicate relationships among the represented data to viewers of the images."
   ]
  },
  {
   "cell_type": "code",
   "execution_count": 75,
   "metadata": {},
   "outputs": [
    {
     "data": {
      "text/plain": [
       "<matplotlib.axes._subplots.AxesSubplot at 0x399d106388>"
      ]
     },
     "execution_count": 75,
     "metadata": {},
     "output_type": "execute_result"
    },
    {
     "data": {
      "image/png": "[encoded data removed]",
      "text/plain": [
       "<Figure size 432x288 with 2 Axes>"
      ]
     },
     "metadata": {
      "needs_background": "light"
     },
     "output_type": "display_data"
    }
   ],
   "source": [
    "# heatmap to show correlation\n",
    "import seaborn as sns\n",
    "# we need to use the labels column\n",
    "corr = pd.concat([features, labels], axis = 1).corr()\n",
    "sns.heatmap(corr, \n",
    "        xticklabels=corr.columns,\n",
    "        yticklabels=corr.columns)"
   ]
  },
  {
   "cell_type": "code",
   "execution_count": 76,
   "metadata": {
    "scrolled": false
   },
   "outputs": [
    {
     "data": {
      "image/png": "[encoded data removed]",
      "text/plain": [
       "<Figure size 432x288 with 1 Axes>"
      ]
     },
     "metadata": {
      "needs_background": "light"
     },
     "output_type": "display_data"
    }
   ],
   "source": [
    "# print a chart of the estimated time in function of the distance\n",
    "plt.scatter(features['distance'], labels)\n",
    "plt.xlabel(\"distance\")\n",
    "plt.ylabel(\"estimated time\")\n",
    "plt.show()"
   ]
  },
  {
   "cell_type": "markdown",
   "metadata": {},
   "source": [
    "### 6. Handle outliers\n",
    "Before mentioning how outliers can be handled, I want to state that the best way to detect the outliers is to demonstrate the data visually. All other statistical methodologies are open to making mistakes, whereas visualizing the outliers gives a chance to take a decision with high precision."
   ]
  },
  {
   "cell_type": "code",
   "execution_count": 77,
   "metadata": {},
   "outputs": [],
   "source": [
    "# exo: remove all the points which have estimated time > 400"
   ]
  },
  {
   "cell_type": "code",
   "execution_count": 78,
   "metadata": {},
   "outputs": [],
   "source": [
    "# solution :\n",
    "features = features[labels < 400]\n",
    "labels  = labels[labels < 400]"
   ]
  },
  {
   "cell_type": "code",
   "execution_count": 79,
   "metadata": {},
   "outputs": [],
   "source": [
    "# exo: re-print the chart to confirm"
   ]
  },
  {
   "cell_type": "code",
   "execution_count": 80,
   "metadata": {},
   "outputs": [
    {
     "data": {
      "image/png": "[encoded data removed]",
      "text/plain": [
       "<Figure size 432x288 with 1 Axes>"
      ]
     },
     "metadata": {
      "needs_background": "light"
     },
     "output_type": "display_data"
    }
   ],
   "source": [
    "# solution : \n",
    "from matplotlib import pyplot as plt\n",
    "plt.scatter(features['distance'], labels)\n",
    "plt.xlabel(\"distance\")\n",
    "plt.ylabel(\"estimated time\")\n",
    "plt.show()"
   ]
  },
  {
   "cell_type": "markdown",
   "metadata": {},
   "source": [
    "### 7. Encode data\n",
    "One-hot encoding is one of the most common encoding methods in machine learning. This method spreads the values in a column to multiple flag columns and assigns 0 or 1 to them. These binary values express the relationship between grouped and encoded column."
   ]
  },
  {
   "cell_type": "code",
   "execution_count": 81,
   "metadata": {},
   "outputs": [],
   "source": [
    "#Encode data\n",
    "def oneHotEncode(df, col):\n",
    "    dfDummies = pd.get_dummies(df[col], prefix = col)\n",
    "    df = pd.concat([df, dfDummies], axis=1)\n",
    "    \n",
    "    # write youe code here\n",
    "    \n",
    "    return df"
   ]
  },
  {
   "cell_type": "code",
   "execution_count": 82,
   "metadata": {},
   "outputs": [],
   "source": [
    "# exo: complete the oneHotEncode function (drop the current column)"
   ]
  },
  {
   "cell_type": "code",
   "execution_count": 83,
   "metadata": {},
   "outputs": [],
   "source": [
    "# solution\n",
    "def oneHotEncode(df, col):\n",
    "    dfDummies = pd.get_dummies(df[col], prefix = col)\n",
    "    df = pd.concat([df, dfDummies], axis=1)\n",
    "    \n",
    "    # write youe code here\n",
    "    df.drop([col], axis = 1, inplace = True)\n",
    "    \n",
    "    return df"
   ]
  },
  {
   "cell_type": "code",
   "execution_count": 84,
   "metadata": {},
   "outputs": [
    {
     "data": {
      "text/html": [
       "<div>\n",
       "<style scoped>\n",
       "    .dataframe tbody tr th:only-of-type {\n",
       "        vertical-align: middle;\n",
       "    }\n",
       "\n",
       "    .dataframe tbody tr th {\n",
       "        vertical-align: top;\n",
       "    }\n",
       "\n",
       "    .dataframe thead th {\n",
       "        text-align: right;\n",
       "    }\n",
       "</style>\n",
       "<table border=\"1\" class=\"dataframe\">\n",
       "  <thead>\n",
       "    <tr style=\"text-align: right;\">\n",
       "      <th></th>\n",
       "      <th>travel_type</th>\n",
       "      <th>car_type</th>\n",
       "      <th>distance</th>\n",
       "      <th>hour</th>\n",
       "      <th>day_name</th>\n",
       "      <th>lat</th>\n",
       "      <th>lon</th>\n",
       "      <th>travel_type_Personal</th>\n",
       "      <th>travel_type_advance</th>\n",
       "      <th>travel_type_live</th>\n",
       "      <th>...</th>\n",
       "      <th>car_type_Yacht 8 places</th>\n",
       "      <th>car_type_tem:tem 4h</th>\n",
       "      <th>car_type_tem:tem 8h</th>\n",
       "      <th>day_name_Friday</th>\n",
       "      <th>day_name_Monday</th>\n",
       "      <th>day_name_Saturday</th>\n",
       "      <th>day_name_Sunday</th>\n",
       "      <th>day_name_Thursday</th>\n",
       "      <th>day_name_Tuesday</th>\n",
       "      <th>day_name_Wednesday</th>\n",
       "    </tr>\n",
       "  </thead>\n",
       "  <tbody>\n",
       "    <tr>\n",
       "      <td>0</td>\n",
       "      <td>advance</td>\n",
       "      <td>Mini Citadine</td>\n",
       "      <td>6053.0</td>\n",
       "      <td>23</td>\n",
       "      <td>Sunday</td>\n",
       "      <td>36.770683</td>\n",
       "      <td>3.051061</td>\n",
       "      <td>0</td>\n",
       "      <td>1</td>\n",
       "      <td>0</td>\n",
       "      <td>...</td>\n",
       "      <td>0</td>\n",
       "      <td>0</td>\n",
       "      <td>0</td>\n",
       "      <td>0</td>\n",
       "      <td>0</td>\n",
       "      <td>0</td>\n",
       "      <td>1</td>\n",
       "      <td>0</td>\n",
       "      <td>0</td>\n",
       "      <td>0</td>\n",
       "    </tr>\n",
       "    <tr>\n",
       "      <td>1</td>\n",
       "      <td>live</td>\n",
       "      <td>Mini Citadine</td>\n",
       "      <td>31895.0</td>\n",
       "      <td>23</td>\n",
       "      <td>Sunday</td>\n",
       "      <td>36.745613</td>\n",
       "      <td>2.942864</td>\n",
       "      <td>0</td>\n",
       "      <td>0</td>\n",
       "      <td>1</td>\n",
       "      <td>...</td>\n",
       "      <td>0</td>\n",
       "      <td>0</td>\n",
       "      <td>0</td>\n",
       "      <td>0</td>\n",
       "      <td>0</td>\n",
       "      <td>0</td>\n",
       "      <td>1</td>\n",
       "      <td>0</td>\n",
       "      <td>0</td>\n",
       "      <td>0</td>\n",
       "    </tr>\n",
       "    <tr>\n",
       "      <td>2</td>\n",
       "      <td>live</td>\n",
       "      <td>Mini Citadine</td>\n",
       "      <td>3056.0</td>\n",
       "      <td>23</td>\n",
       "      <td>Sunday</td>\n",
       "      <td>36.736259</td>\n",
       "      <td>3.061666</td>\n",
       "      <td>0</td>\n",
       "      <td>0</td>\n",
       "      <td>1</td>\n",
       "      <td>...</td>\n",
       "      <td>0</td>\n",
       "      <td>0</td>\n",
       "      <td>0</td>\n",
       "      <td>0</td>\n",
       "      <td>0</td>\n",
       "      <td>0</td>\n",
       "      <td>1</td>\n",
       "      <td>0</td>\n",
       "      <td>0</td>\n",
       "      <td>0</td>\n",
       "    </tr>\n",
       "    <tr>\n",
       "      <td>3</td>\n",
       "      <td>live</td>\n",
       "      <td>Mini Citadine</td>\n",
       "      <td>6092.0</td>\n",
       "      <td>23</td>\n",
       "      <td>Sunday</td>\n",
       "      <td>36.727856</td>\n",
       "      <td>3.218130</td>\n",
       "      <td>0</td>\n",
       "      <td>0</td>\n",
       "      <td>1</td>\n",
       "      <td>...</td>\n",
       "      <td>0</td>\n",
       "      <td>0</td>\n",
       "      <td>0</td>\n",
       "      <td>0</td>\n",
       "      <td>0</td>\n",
       "      <td>0</td>\n",
       "      <td>1</td>\n",
       "      <td>0</td>\n",
       "      <td>0</td>\n",
       "      <td>0</td>\n",
       "    </tr>\n",
       "    <tr>\n",
       "      <td>4</td>\n",
       "      <td>live</td>\n",
       "      <td>Mini Citadine</td>\n",
       "      <td>6928.0</td>\n",
       "      <td>23</td>\n",
       "      <td>Sunday</td>\n",
       "      <td>36.753670</td>\n",
       "      <td>2.976275</td>\n",
       "      <td>0</td>\n",
       "      <td>0</td>\n",
       "      <td>1</td>\n",
       "      <td>...</td>\n",
       "      <td>0</td>\n",
       "      <td>0</td>\n",
       "      <td>0</td>\n",
       "      <td>0</td>\n",
       "      <td>0</td>\n",
       "      <td>0</td>\n",
       "      <td>1</td>\n",
       "      <td>0</td>\n",
       "      <td>0</td>\n",
       "      <td>0</td>\n",
       "    </tr>\n",
       "  </tbody>\n",
       "</table>\n",
       "<p>5 rows × 32 columns</p>\n",
       "</div>"
      ],
      "text/plain": [
       "  travel_type       car_type  distance  hour day_name        lat       lon  \\\n",
       "0     advance  Mini Citadine    6053.0    23   Sunday  36.770683  3.051061   \n",
       "1        live  Mini Citadine   31895.0    23   Sunday  36.745613  2.942864   \n",
       "2        live  Mini Citadine    3056.0    23   Sunday  36.736259  3.061666   \n",
       "3        live  Mini Citadine    6092.0    23   Sunday  36.727856  3.218130   \n",
       "4        live  Mini Citadine    6928.0    23   Sunday  36.753670  2.976275   \n",
       "\n",
       "   travel_type_Personal  travel_type_advance  travel_type_live  ...  \\\n",
       "0                     0                    1                 0  ...   \n",
       "1                     0                    0                 1  ...   \n",
       "2                     0                    0                 1  ...   \n",
       "3                     0                    0                 1  ...   \n",
       "4                     0                    0                 1  ...   \n",
       "\n",
       "   car_type_Yacht 8 places  car_type_tem:tem 4h  car_type_tem:tem 8h  \\\n",
       "0                        0                    0                    0   \n",
       "1                        0                    0                    0   \n",
       "2                        0                    0                    0   \n",
       "3                        0                    0                    0   \n",
       "4                        0                    0                    0   \n",
       "\n",
       "   day_name_Friday  day_name_Monday  day_name_Saturday  day_name_Sunday  \\\n",
       "0                0                0                  0                1   \n",
       "1                0                0                  0                1   \n",
       "2                0                0                  0                1   \n",
       "3                0                0                  0                1   \n",
       "4                0                0                  0                1   \n",
       "\n",
       "   day_name_Thursday  day_name_Tuesday  day_name_Wednesday  \n",
       "0                  0                 0                   0  \n",
       "1                  0                 0                   0  \n",
       "2                  0                 0                   0  \n",
       "3                  0                 0                   0  \n",
       "4                  0                 0                   0  \n",
       "\n",
       "[5 rows x 32 columns]"
      ]
     },
     "execution_count": 84,
     "metadata": {},
     "output_type": "execute_result"
    }
   ],
   "source": [
    "# applying the function to our data\n",
    "features = oneHotEncode(features, 'travel_type')\n",
    "features = oneHotEncode(features, 'car_type')\n",
    "features = oneHotEncode(features, 'day_name')\n",
    "features.head()"
   ]
  },
  {
   "cell_type": "markdown",
   "metadata": {},
   "source": [
    "### 8. Scaling\n",
    "In most cases, the numerical features of the dataset do not have a certain range and they differ from each other. In real life, it is nonsense to expect age and income columns to have the same range. But from the machine learning point of view, how these two columns can be compared?  \n",
    "<b> Scaling </b> solves this problem. The continuous features become identical in terms of the range, after a scaling process."
   ]
  },
  {
   "cell_type": "code",
   "execution_count": 85,
   "metadata": {},
   "outputs": [
    {
     "ename": "IndentationError",
     "evalue": "expected an indented block (<ipython-input-85-26aec42094bc>, line 7)",
     "output_type": "error",
     "traceback": [
      "\u001b[1;36m  File \u001b[1;32m\"<ipython-input-85-26aec42094bc>\"\u001b[1;36m, line \u001b[1;32m7\u001b[0m\n\u001b[1;33m    return df\u001b[0m\n\u001b[1;37m         ^\u001b[0m\n\u001b[1;31mIndentationError\u001b[0m\u001b[1;31m:\u001b[0m expected an indented block\n"
     ]
    }
   ],
   "source": [
    "#scale data\n",
    "def scale(df, cols):     \n",
    "    for col in cols:\n",
    "        \n",
    "        # write your code here: \n",
    "    return df\n",
    "features = scale(features, [\"distance\", \"hour\"]) \n",
    "features.head()"
   ]
  },
  {
   "cell_type": "code",
   "execution_count": 86,
   "metadata": {},
   "outputs": [],
   "source": [
    "# exo: apply min-max scaling in the previous function"
   ]
  },
  {
   "cell_type": "code",
   "execution_count": null,
   "metadata": {},
   "outputs": [],
   "source": [
    "# solution:\n",
    "def scale(df, cols):     \n",
    "    for col in cols:\n",
    "        \n",
    "        # write your code here: \n",
    "        df[col] = (df[col] - df[col].min()) / (df[col].max() - df[col].min())\n",
    "    return df"
   ]
  },
  {
   "cell_type": "markdown",
   "metadata": {},
   "source": [
    "### 9. Conclusion\n",
    "\n",
    "You are now capable to exploit data and extract the most useful informations from it.\n",
    "\n",
    "in the next lesson you will learn how to use the our final data to create and train a model."
   ]
  }
 ],
 "metadata": {
  "kernelspec": {
   "display_name": "Python 3",
   "language": "python",
   "name": "python3"
  },
  "language_info": {
   "codemirror_mode": {
    "name": "ipython",
    "version": 3
   },
   "file_extension": ".py",
   "mimetype": "text/x-python",
   "name": "python",
   "nbconvert_exporter": "python",
   "pygments_lexer": "ipython3",
   "version": "3.7.4"
  }
 },
 "nbformat": 4,
 "nbformat_minor": 2
}
